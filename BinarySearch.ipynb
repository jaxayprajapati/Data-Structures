{
 "cells": [
  {
   "cell_type": "code",
   "execution_count": 14,
   "id": "88834204",
   "metadata": {},
   "outputs": [],
   "source": [
    "def binary_search(arr, low, high, item):\n",
    "    \n",
    "    mid = (low+high)//2\n",
    "    \n",
    "    if item > arr[high]:\n",
    "        return -1\n",
    "    \n",
    "    if arr[mid] == item:\n",
    "        return mid\n",
    "    \n",
    "    elif item > arr[mid]:\n",
    "        low = mid + 1\n",
    "        return binary_search(arr, low, high, item)\n",
    "    \n",
    "    elif item < arr[mid]:\n",
    "        high = mid - 1\n",
    "        return binary_search(arr, low, high, item)\n",
    "    "
   ]
  },
  {
   "cell_type": "code",
   "execution_count": 17,
   "id": "aff8ec4e",
   "metadata": {},
   "outputs": [
    {
     "data": {
      "text/plain": [
       "-1"
      ]
     },
     "execution_count": 17,
     "metadata": {},
     "output_type": "execute_result"
    }
   ],
   "source": [
    "arr = [3,5,7,10,15]\n",
    "binary_search(arr, 0, len(arr)-1, 100)"
   ]
  },
  {
   "cell_type": "code",
   "execution_count": 61,
   "id": "abaccc0e",
   "metadata": {},
   "outputs": [],
   "source": [
    "class Manuallist:\n",
    "    \n",
    "    \"\"\"\n",
    "        Use wheneve we have large amount of data other wise use linear search\n",
    "        because : \n",
    "        complexity  of linear search --> 0(n)\n",
    "        complexity  of Binary search --> 0(log n) and binary search also need sorted array\n",
    "        \n",
    "        So, when we use binary search on large data on that time complexity of sorting algorithm will become silent \n",
    "    \"\"\"\n",
    "    \n",
    "    def __init__(self,arr):\n",
    "        self._arr = arr\n",
    "        \n",
    "    def binary_search(self, item):\n",
    "        arr = self._arr\n",
    "        low = 0\n",
    "        high = len(arr) - 1\n",
    "        return self._search(arr, low, high, item)\n",
    "        \n",
    "    def _search(self, arr, low, high, item):\n",
    "        mid = (low+high)//2\n",
    "    \n",
    "        if item > arr[high] or item < arr[low]:\n",
    "            return -1\n",
    "\n",
    "        if arr[mid] == item:\n",
    "            return mid\n",
    "\n",
    "        elif item > arr[mid]:\n",
    "            low = mid + 1\n",
    "            return self._search(arr, low, high, item)\n",
    "\n",
    "        elif item < arr[mid]:\n",
    "            high = mid - 1\n",
    "            return self._search(arr, low, high, item)"
   ]
  },
  {
   "cell_type": "code",
   "execution_count": 58,
   "id": "7085563d",
   "metadata": {},
   "outputs": [],
   "source": [
    "a = Manuallist([3,5,7,10,15])"
   ]
  },
  {
   "cell_type": "code",
   "execution_count": 60,
   "id": "edcd91d1",
   "metadata": {},
   "outputs": [
    {
     "data": {
      "text/plain": [
       "-1"
      ]
     },
     "execution_count": 60,
     "metadata": {},
     "output_type": "execute_result"
    }
   ],
   "source": [
    "a.binary_search(-1)"
   ]
  },
  {
   "cell_type": "code",
   "execution_count": null,
   "id": "0e05ceb4",
   "metadata": {},
   "outputs": [],
   "source": []
  }
 ],
 "metadata": {
  "kernelspec": {
   "display_name": "Python 3 (ipykernel)",
   "language": "python",
   "name": "python3"
  },
  "language_info": {
   "codemirror_mode": {
    "name": "ipython",
    "version": 3
   },
   "file_extension": ".py",
   "mimetype": "text/x-python",
   "name": "python",
   "nbconvert_exporter": "python",
   "pygments_lexer": "ipython3",
   "version": "3.8.10"
  }
 },
 "nbformat": 4,
 "nbformat_minor": 5
}
